{
 "cells": [
  {
   "cell_type": "markdown",
   "metadata": {},
   "source": [
    "### 88. 合并两个有序数组\n",
    "给你两个按 非递减顺序 排列的整数数组 nums1 和 nums2，另有两个整数 m 和 n ，分别表示 nums1 和 nums2 中的元素数目。\n",
    "\n",
    "请你 合并 nums2 到 nums1 中，使合并后的数组同样按 非递减顺序 排列。\n",
    "\n",
    "注意：最终，合并后数组不应由函数返回，而是存储在数组 nums1 中。为了应对这种情况，nums1 的初始长度为 m + n，其中前 m 个元素表示应合并的元素，后 n 个元素为 0 ，应忽略。nums2 的长度为 n 。"
   ]
  },
  {
   "cell_type": "code",
   "execution_count": 4,
   "metadata": {},
   "outputs": [],
   "source": [
    "\"\"\"\n",
    "1. 利用双指针思路，将更大的那个移到num1的末尾\n",
    "重点：指针问题多考虑while；\n",
    "要考虑特殊极端情况，比如2全部比1小，2全部比1大等\n",
    "\"\"\"\n",
    "\n",
    "class Solution:\n",
    "    def merge(self, nums1: list[int], m: int, nums2: list[int], n: int) -> None:\n",
    "        \"\"\"\n",
    "        Do not return anything, modify nums1 in-place instead.\n",
    "        \"\"\"\n",
    "        p1, p2 = m - 1, n - 1\n",
    "        tail = m + n - 1\n",
    "        while p1 >= 0 or p2 >= 0:\n",
    "            if p1 == -1:\n",
    "                nums1[tail] = nums2[p2]\n",
    "                p2 -= 1\n",
    "            elif p2 == -1:\n",
    "                nums1[tail] = nums1[p1]\n",
    "                p1 -= 1\n",
    "            elif nums1[p1] > nums2[p2]:\n",
    "                nums1[tail] = nums1[p1]\n",
    "                p1 -= 1\n",
    "            else:\n",
    "                nums1[tail] = nums2[p2]\n",
    "                p2 -= 1\n",
    "            tail -= 1\n"
   ]
  },
  {
   "cell_type": "markdown",
   "metadata": {},
   "source": [
    "### 27. 移除元素\n",
    "给你一个数组 nums 和一个值 val，你需要 原地 移除所有数值等于 val 的元素。元素的顺序可能发生改变。然后返回 nums 中与 val 不同的元素的数量。\n",
    "\n",
    "假设 nums 中不等于 val 的元素数量为 k，要通过此题，您需要执行以下操作：\n",
    "\n",
    "更改 nums 数组，使 nums 的前 k 个元素包含不等于 val 的元素。nums 的其余元素和 nums 的大小并不重要。\n",
    "返回 k。\n",
    "用户评测：\n",
    "\n",
    "评测机将使用以下代码测试您的解决方案：\n",
    "\n",
    "```\n",
    "int[] nums = [...]; // 输入数组\n",
    "int val = ...; // 要移除的值\n",
    "int[] expectedNums = [...]; // 长度正确的预期答案。\n",
    "                            // 它以不等于 val 的值排序。\n",
    "\n",
    "int k = removeElement(nums, val); // 调用你的实现\n",
    "\n",
    "assert k == expectedNums.length;\n",
    "sort(nums, 0, k); // 排序 nums 的前 k 个元素\n",
    "for (int i = 0; i < actualLength; i++) {\n",
    "    assert nums[i] == expectedNums[i];\n",
    "}\n",
    "```\n",
    "\n",
    "如果所有的断言都通过，你的解决方案将会 通过。"
   ]
  },
  {
   "cell_type": "code",
   "execution_count": 42,
   "metadata": {},
   "outputs": [],
   "source": [
    "# 错误\n",
    "class Solution:\n",
    "    def removeElement(self, nums: list[int], val: int) -> int:\n",
    "        p = len(nums) - 1\n",
    "        i = 0\n",
    "        while i <= p:\n",
    "            if nums[i] != val:\n",
    "                i += 1\n",
    "            elif nums[p] != val:\n",
    "                nums[i] = nums[p]\n",
    "                i += 1\n",
    "                p -= 1\n",
    "            else:\n",
    "                p -= 1\n",
    "\n",
    "        return i\n",
    "\n",
    "# 正确双指针\n",
    "class Solution:\n",
    "    def removeElement(self, nums: list[int], val: int) -> int:\n",
    "        p = len(nums) - 1\n",
    "        i = 0\n",
    "        while i < p:\n",
    "            if nums[i] == val:\n",
    "                nums[i] == nums[p]\n",
    "                p -= 1\n",
    "            else:\n",
    "                i += 1\n",
    "        return i\n",
    "        \n",
    "# 相当于将所有的非val元素排到前排\n",
    "class Solution:\n",
    "    def removeElement(self, nums: list[int], val: int) -> int:\n",
    "        i = 0\n",
    "        for x in nums:\n",
    "            if x != val:\n",
    "                nums[i] = x\n",
    "                i += 1\n",
    "        return i\n",
    "    \n",
    "# 用while的写法\n",
    "class Solution:\n",
    "    def removeElement(self, nums: list[int], val: int) -> int:\n",
    "        slow, fast = 0, 0\n",
    "        while fast < len(nums):\n",
    "            if nums[fast] != val:\n",
    "                nums[slow] = nums[fast]\n",
    "                slow += 1\n",
    "            fast += 1\n",
    "        return slow\n",
    "\n"
   ]
  },
  {
   "cell_type": "markdown",
   "metadata": {},
   "source": [
    "注意，在这里，简单的题就要用简单的解法，能用单指针，能减少判断就不用增加判断，错误做法是从开头和结尾同时往回指针移动。重写有时好于替换。\n"
   ]
  },
  {
   "cell_type": "markdown",
   "metadata": {},
   "source": [
    "### 26. 删除有序数组中的重复项\n",
    "\n",
    "给你一个 非严格递增排列 的数组 nums ，请你 原地 删除重复出现的元素，使每个元素 只出现一次 ，返回删除后数组的新长度。元素的 相对顺序 应该保持 一致 。然后返回 nums 中唯一元素的个数。\n",
    "\n",
    "考虑 nums 的唯一元素的数量为 k ，你需要做以下事情确保你的题解可以被通过：\n",
    "\n",
    "更改数组 nums ，使 nums 的前 k 个元素包含唯一元素，并按照它们最初在 nums 中出现的顺序排列。nums 的其余元素与 nums 的大小不重要。\n",
    "返回 k 。\n"
   ]
  },
  {
   "cell_type": "code",
   "execution_count": 7,
   "metadata": {},
   "outputs": [
    {
     "data": {
      "text/plain": [
       "[1, 2, 4]"
      ]
     },
     "execution_count": 7,
     "metadata": {},
     "output_type": "execute_result"
    }
   ],
   "source": [
    "class Solution:\n",
    "    def removeDuplicates(self, nums: list[int]) -> int:\n",
    "        slow, fast = 0, 1\n",
    "        while fast < len(nums):\n",
    "            if nums[slow] != nums[fast]:\n",
    "                nums[slow + 1] = nums[fast]\n",
    "                slow += 1\n",
    "            fast += 1\n",
    "        return slow+1"
   ]
  },
  {
   "cell_type": "markdown",
   "metadata": {},
   "source": [
    "### 80. 删除有序数组中的重复项 II\n",
    "\n",
    "给你一个有序数组 nums ，请你 原地 删除重复出现的元素，使得出现次数超过两次的元素只出现两次 ，返回删除后数组的新长度。\n",
    "\n",
    "不要使用额外的数组空间，你必须在 原地 修改输入数组 并在使用 O(1) 额外空间的条件下完成。\n",
    "\n",
    " "
   ]
  },
  {
   "cell_type": "code",
   "execution_count": null,
   "metadata": {},
   "outputs": [],
   "source": [
    "class Solution:\n",
    "    def removeDuplicates(self, nums: list[int]) -> int:\n",
    "        slow, fast = 0, 2\n",
    "        while fast < len(nums):\n",
    "            if nums[slow] != nums[fast]:\n",
    "                nums[slow + 2] = nums[fast]\n",
    "                slow += 1\n",
    "            fast += 1\n",
    "        return slow + 2"
   ]
  },
  {
   "cell_type": "markdown",
   "metadata": {},
   "source": [
    "### 169. 多数元素\n",
    "给定一个大小为 n 的数组 nums ，返回其中的多数元素。多数元素是指在数组中出现次数 大于 ⌊ n/2 ⌋ 的元素。\n",
    "\n",
    "你可以假设数组是非空的，并且给定的数组总是存在多数元素。"
   ]
  },
  {
   "cell_type": "code",
   "execution_count": 2,
   "metadata": {},
   "outputs": [
    {
     "data": {
      "text/plain": [
       "[1, 2, 3]"
      ]
     },
     "execution_count": 2,
     "metadata": {},
     "output_type": "execute_result"
    }
   ],
   "source": [
    "# 排序\n",
    "class Solution:\n",
    "    def majorityElement(self, nums: list[int]) -> int:\n",
    "        nums.sort()\n",
    "        return nums[int(len(nums)/2)]\n",
    "    \n",
    "# 随机\n",
    "class Solution:\n",
    "    def majorityElement(self, nums: list[int]) -> int:\n",
    "        majority_count = len(nums) // 2\n",
    "        while True:\n",
    "            candidate = random.choice(nums)\n",
    "            if sum(1 for elem in nums if elem == candidate) > majority_count:\n",
    "                return candidate\n",
    "\n",
    "# Boyer-Moore 投票算法\n",
    "class Solution:\n",
    "    def majorityElement(self, nums: list[int]) -> int:\n",
    "        count = 0\n",
    "        candidate = None\n",
    "\n",
    "        for num in nums:\n",
    "            if count == 0:\n",
    "                candidate = num\n",
    "            count += (1 if num == candidate else -1)\n",
    "\n",
    "        return candidate\n",
    "\n",
    "\n"
   ]
  },
  {
   "cell_type": "markdown",
   "metadata": {},
   "source": [
    "对于boyer-moore算法，分割数组成子数组使每一个数组至少众数数量=其他数数量，那么对于每个组完结束时，count应该都等于0，由于众数>n/2，最后一组一定众数要多，此时candidate必为众数"
   ]
  },
  {
   "cell_type": "markdown",
   "metadata": {},
   "source": [
    "### 189. 轮转数组\n",
    "给定一个整数数组 nums，将数组中的元素向右轮转 k 个位置，其中 k 是非负数。"
   ]
  },
  {
   "cell_type": "code",
   "execution_count": 21,
   "metadata": {},
   "outputs": [],
   "source": [
    "# 最简单，但是时间复杂度和空间复杂度都是n\n",
    "class Solution:\n",
    "    def rotate(self, nums: list[int], k: int) -> None:\n",
    "        \"\"\"\n",
    "        Do not return anything, modify nums in-place instead.\n",
    "        \"\"\"\n",
    "        l = len(nums)\n",
    "        temp = []\n",
    "        for n in range(l):\n",
    "            temp.append(nums[(n-k)%l])\n",
    "        for n in range(l):\n",
    "            nums[n] = temp[n]\n",
    "\n",
    "# 位置变换\n",
    "class Solution:\n",
    "    def rotate(self, nums: list[int], k: int) -> None:\n",
    "        \"\"\"\n",
    "        Do not return anything, modify nums in-place instead.\n",
    "        \"\"\"\n",
    "        l = len(nums)\n",
    "        k = k % l\n",
    "        count = self.gkd(k, l)\n",
    "        temp, prev = 0, 0\n",
    "        for n in range(count):\n",
    "            temp, prev = 0, nums[n]\n",
    "            current = n\n",
    "            while True:\n",
    "                temp = nums[(current+k) % l]\n",
    "                nums[(current+k) % l] = prev\n",
    "                prev = temp\n",
    "                current += k\n",
    "                if current % l == n:\n",
    "                    break\n",
    "        return nums\n",
    "\n",
    "    @staticmethod                   \n",
    "    def gkd(x, y):\n",
    "        while y:\n",
    "            x, y = y, x % y\n",
    "        return x\n",
    "    \n",
    "\n",
    "class Solution:\n",
    "    def rotate(self, nums: list[int], k: int) -> None:\n",
    "        \"\"\"\n",
    "        Do not return anything, modify nums in-place instead.\n",
    "        \"\"\"\n",
    "        for i in range(k):\n",
    "            nums.insert(0, nums.pop())\n",
    "\n",
    "\n",
    "class Solution:\n",
    "    def rotate(self, nums: list[int], k: int) -> None:\n",
    "        \"\"\"\n",
    "        Do not return anything, modify nums in-place instead.\n",
    "        \"\"\"\n",
    "        l = len(nums)\n",
    "        k = k % l\n",
    "        nums = self.reverse(nums, 0, l-1)\n",
    "        nums = self.reverse(nums, 0, k-1)\n",
    "        nums = self.reverse(nums, k, l-1)\n",
    "\n",
    "    def reverse(nums, start, end):\n",
    "        while start < end:\n",
    "            temp = nums[start]\n",
    "            nums[start] = nums[end]\n",
    "            nums[end] = temp\n",
    "            end -= 1\n",
    "            start += 1\n",
    "        return nums\n",
    "\n"
   ]
  },
  {
   "cell_type": "markdown",
   "metadata": {},
   "source": [
    "在这里不是一个简单的for循环解决，要嵌套一个for或者while循环"
   ]
  },
  {
   "cell_type": "markdown",
   "metadata": {},
   "source": [
    "### 121. 买卖股票的最佳时机\n",
    "\n",
    "给定一个数组 prices ，它的第 i 个元素 prices[i] 表示一支给定股票第 i 天的价格。\n",
    "\n",
    "你只能选择 某一天 买入这只股票，并选择在 未来的某一个不同的日子 卖出该股票。设计一个算法来计算你所能获取的最大利润。\n",
    "\n",
    "返回你可以从这笔交易中获取的最大利润。如果你不能获取任何利润，返回 0 。"
   ]
  },
  {
   "cell_type": "code",
   "execution_count": null,
   "metadata": {},
   "outputs": [],
   "source": [
    "class Solution:\n",
    "    def maxProfit(self, prices: list[int]) -> int:\n",
    "        buy, sell = prices[0], 0\n",
    "        buy_day, sell_day = 0, 0\n",
    "        day = len(prices)\n",
    "        max_pro = 0\n",
    "        for i in range(day):\n",
    "            if sell < prices[i]:\n",
    "                sell = prices[i]\n",
    "                sell_day = i\n",
    "            if buy > prices[i]:\n",
    "                buy = prices[i]\n",
    "                buy_day = i\n",
    "            if buy_day < sell_day:\n",
    "                max_pro = max(max_pro, sell-buy)\n",
    "            else:\n",
    "                sell = 0\n",
    "            print(buy, buy_day, sell, sell_day, max_pro)\n",
    "        return max_pro\n",
    "    \n",
    "class Solution:\n",
    "    def maxProfit(self, prices: list[int]) -> int:\n",
    "        pre, profit  = prices[0], 0\n",
    "        day = len(prices)\n",
    "        for i in range(day):\n",
    "            profit = max(profit, prices[i] - pre)\n",
    "            pre = min(pre, prices[i])\n",
    "        return profit\n",
    "    "
   ]
  },
  {
   "cell_type": "markdown",
   "metadata": {},
   "source": [
    "注意这道题其实不需要索引，所以直接循环遍历更新值就好，无需第一种记录索引"
   ]
  },
  {
   "cell_type": "code",
   "execution_count": 59,
   "metadata": {},
   "outputs": [],
   "source": [
    "# 贪心算法复杂版\n",
    "class Solution:\n",
    "    def maxProfit(self, prices: list[int]) -> int:\n",
    "        profit  = 0\n",
    "        pre_slope = (True if prices[1] > prices[0] else False)\n",
    "        pre = (prices[0] if pre_slope else None)\n",
    "        day = len(prices)\n",
    "        for i in range(day-1):\n",
    "            slope = (True if prices[i+1] > prices[i] else False)\n",
    "            if slope and not pre_slope: \n",
    "                pre = prices[i]\n",
    "            elif not slope and pre_slope: \n",
    "                profit += prices[i] - pre\n",
    "            pre_slope = slope\n",
    "            print(pre, profit)\n",
    "        if slope:\n",
    "            profit += prices[i+1] - pre\n",
    "        return profit\n",
    "    \n",
    "# 贪心算法\n",
    "class Solution:\n",
    "    def maxProfit(self, prices: list[int]) -> int:\n",
    "        profit = 0\n",
    "        day = len(prices)\n",
    "        for i in range(day-1):\n",
    "            profit += max(0, prices[i+1]-prices[i])\n",
    "        return profit\n",
    "\n",
    "# 动态规划\n",
    "class Solution:\n",
    "    def maxProfit(self, prices: list[int]) -> int:\n",
    "        day = len(prices)\n",
    "        dp0, dp1 = 0, -prices[0]\n",
    "        for i in range(1, day):\n",
    "            newdp0 = max(dp0, dp1 + prices[i])\n",
    "            newdp1 = max(dp1, dp0 - prices[i])\n",
    "            dp0, dp1 = newdp0, newdp1\n",
    "        return dp0\n",
    "\n"
   ]
  },
  {
   "cell_type": "markdown",
   "metadata": {},
   "source": [
    "考虑到「不能同时参与多笔交易」，因此每天交易结束后只可能存在手里有一支股票或者没有股票的状态。这种状态适合用动态规划考虑问题\n"
   ]
  },
  {
   "cell_type": "markdown",
   "metadata": {},
   "source": [
    "### 55. 跳跃游戏\n",
    "给你一个非负整数数组 nums ，你最初位于数组的 第一个下标 。数组中的每个元素代表你在该位置可以跳跃的最大长度。\n",
    "\n",
    "判断你是否能够到达最后一个下标，如果可以，返回 true ；否则，返回 false 。"
   ]
  },
  {
   "cell_type": "code",
   "execution_count": null,
   "metadata": {},
   "outputs": [],
   "source": [
    "class Solution:\n",
    "    def canJump(self, nums: list[int]) -> bool:\n",
    "        l = len(nums)\n",
    "        left = 0\n",
    "        if nums[0] >= l - 1: return True\n",
    "        for i in range(1, l):\n",
    "            if left + nums[left] <= i + nums[i]:\n",
    "                if left + nums[left] < i:\n",
    "                    return False\n",
    "                left = i\n",
    "        return True\n",
    "                \n",
    "class Solution:\n",
    "    def canJump(self, nums: list[int]) -> bool:\n",
    "        l = len(nums)\n",
    "        right = 0\n",
    "        for i in range(l):\n",
    "            if i <= right:\n",
    "                right = max(right, i+nums[i])\n",
    "                if right >= l - 1:\n",
    "                    return True\n",
    "        return False\n"
   ]
  },
  {
   "cell_type": "markdown",
   "metadata": {},
   "source": [
    "要懂得把复杂的问题简单化，比如本题的目的：明确是否可以跳转到末尾，那么\n",
    "1. 尽量只遍历一次，当发现可以跳转到末尾时弹出。\n",
    "2. 不要想按照现实的逻辑，简化问题，只需求出每个点跳转最远的地方即可。\n",
    "3. 制约：有些点可能在重点以前无法跳到(即这个点时跳转最远的地方不如这个点远)，转换成代码则是：\n",
    "```\n",
    "i > right\n",
    "```"
   ]
  },
  {
   "cell_type": "markdown",
   "metadata": {},
   "source": [
    "### 45. 跳跃游戏 II\n",
    "\n",
    "给定一个长度为 n 的 0 索引整数数组 nums。初始位置为 nums[0]。\n",
    "\n",
    "每个元素 nums[i] 表示从索引 i 向前跳转的最大长度。换句话说，如果你在 nums[i] 处，你可以跳转到任意 nums[i + j] 处:\n",
    "\n",
    "0 <= j <= nums[i] \n",
    "i + j < n\n",
    "返回到达 nums[n - 1] 的最小跳跃次数。生成的测试用例可以到达 nums[n - 1]。\n",
    "\n",
    " "
   ]
  },
  {
   "cell_type": "code",
   "execution_count": 122,
   "metadata": {},
   "outputs": [
    {
     "data": {
      "text/plain": [
       "2"
      ]
     },
     "execution_count": 122,
     "metadata": {},
     "output_type": "execute_result"
    }
   ],
   "source": [
    "class Solution:\n",
    "    def jump(self, nums: list[int]) -> int:\n",
    "        right = 0\n",
    "        maxposition = 0\n",
    "        count = 0\n",
    "        l = len(nums)\n",
    "        for i in range(l-1):\n",
    "            maxposition = max(maxposition, i+nums[i])\n",
    "            if i == right:\n",
    "                right = maxposition\n",
    "                count += 1\n",
    "\n",
    "        return count\n",
    "    \n",
    "class Solution:\n",
    "    def jump(self, nums: list[int]) -> int:\n",
    "        left = 0\n",
    "        right = 1\n",
    "        maxposition = 0\n",
    "        count = 0\n",
    "        l = len(nums)\n",
    "        while right < l:\n",
    "            for i in range(left, right):\n",
    "                maxposition = max(maxposition, i+nums[i])\n",
    "            left = right\n",
    "            right = maxposition + 1\n",
    "            count += 1\n",
    "        return count"
   ]
  },
  {
   "cell_type": "markdown",
   "metadata": {},
   "source": [
    "*多用变量，少用判断*"
   ]
  },
  {
   "cell_type": "code",
   "execution_count": null,
   "metadata": {},
   "outputs": [],
   "source": []
  }
 ],
 "metadata": {
  "kernelspec": {
   "display_name": "llm",
   "language": "python",
   "name": "python3"
  },
  "language_info": {
   "codemirror_mode": {
    "name": "ipython",
    "version": 3
   },
   "file_extension": ".py",
   "mimetype": "text/x-python",
   "name": "python",
   "nbconvert_exporter": "python",
   "pygments_lexer": "ipython3",
   "version": "3.12.4"
  }
 },
 "nbformat": 4,
 "nbformat_minor": 2
}
